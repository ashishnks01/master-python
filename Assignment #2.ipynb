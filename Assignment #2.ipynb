{
 "cells": [
  {
   "cell_type": "markdown",
   "metadata": {},
   "source": [
    "# Task 1"
   ]
  },
  {
   "cell_type": "code",
   "execution_count": 1,
   "metadata": {},
   "outputs": [],
   "source": [
    "#1.1 Write a Python Program to implement your own myreduce() function which works exactly like Python's built-in function reduce() \n",
    "\n",
    "#Sol- Defining a local function-\n",
    "\n",
    "def add (x,y):\n",
    "    return x+y\n",
    "\n",
    "# defining my_reduce function, which will use my local function\n",
    "\n",
    "def my_reduce (func, seq):\n",
    "    value1= seq [0] \n",
    "    for i in seq[1:]: \n",
    "        value1= func(value1, i)\n",
    "    return value1\n",
    "\n"
   ]
  },
  {
   "cell_type": "code",
   "execution_count": 2,
   "metadata": {},
   "outputs": [
    {
     "data": {
      "text/plain": [
       "17"
      ]
     },
     "execution_count": 2,
     "metadata": {},
     "output_type": "execute_result"
    }
   ],
   "source": [
    "my_reduce(add,[1,2,3,6,5])"
   ]
  },
  {
   "cell_type": "code",
   "execution_count": 3,
   "metadata": {},
   "outputs": [],
   "source": [
    "# 1.2 Write a Python program to implement your own myfilter() function which works exactly like Python's built-in function filter() \n",
    "\n",
    "def my_filter(func, iter_):\n",
    "    my_list=[]\n",
    "    if iter_==func:\n",
    "        my_list.append(i)\n",
    "    return True\n",
    "        \n",
    "def chk_prime(num):\n",
    "    my_num=[]\n",
    "    for i in range (num):\n",
    "        if i % 2==0:\n",
    "            my_num.append(i)\n",
    "    return my_num\n",
    "        "
   ]
  },
  {
   "cell_type": "code",
   "execution_count": 4,
   "metadata": {},
   "outputs": [
    {
     "data": {
      "text/plain": [
       "True"
      ]
     },
     "execution_count": 4,
     "metadata": {},
     "output_type": "execute_result"
    }
   ],
   "source": [
    "my_filter(chk_prime,(20))"
   ]
  },
  {
   "cell_type": "code",
   "execution_count": 5,
   "metadata": {},
   "outputs": [
    {
     "name": "stdout",
     "output_type": "stream",
     "text": [
      "['A', 'C', 'A', 'D', 'G', 'I', 'L', 'D']\n"
     ]
    }
   ],
   "source": [
    "#2- Write List comprehensions to produce the following Lists ['A', 'C', 'A', 'D', 'G', 'I', ’L’, ‘ D’] \n",
    "#A-my_str = (\"ACADGILD\")\n",
    "\n",
    "list_1 = [i for i in \"ACADGILD\"]\n",
    "print(list_1)"
   ]
  },
  {
   "cell_type": "code",
   "execution_count": 6,
   "metadata": {},
   "outputs": [
    {
     "name": "stdout",
     "output_type": "stream",
     "text": [
      "['x', 'xx', 'xxx', 'xxxx', 'y', 'yy', 'yyy', 'yyyy', 'z', 'zz', 'zzz', 'zzzz']\n"
     ]
    }
   ],
   "source": [
    "#B-generate ['x', 'xx', 'xxx', 'xxxx', 'y', 'yy', 'yyy', 'yyyy', 'z', 'zz', 'zzz', 'zzzz'] \n",
    "\n",
    "list_2 = [i*num for i in [\"x\",\"y\",\"z\"] for num in range (1,5)]\n",
    "print(list_2)"
   ]
  },
  {
   "cell_type": "code",
   "execution_count": 7,
   "metadata": {},
   "outputs": [
    {
     "name": "stdout",
     "output_type": "stream",
     "text": [
      "['x', 'y', 'z', 'xx', 'yy', 'zz', 'xxx', 'yyy', 'zzz', 'xxxx', 'yyyy', 'zzzz']\n"
     ]
    }
   ],
   "source": [
    "#C-generate ['x', 'y', 'z', 'xx', 'yy', 'zz', 'xx', 'yy', 'zz', 'xxxx', 'yyyy', 'zzzz'] \n",
    "\n",
    "list_3 = [i*num for i in range (1,5) for num in [\"x\",\"y\",\"z\"] ]\n",
    "print(list_3)"
   ]
  },
  {
   "cell_type": "code",
   "execution_count": 8,
   "metadata": {},
   "outputs": [
    {
     "name": "stdout",
     "output_type": "stream",
     "text": [
      "[[2], [3], [4], [3], [4], [5], [4], [5], [6]]\n"
     ]
    }
   ],
   "source": [
    "#D- generate [[2], [3], [4], [3], [4], [5], [4], [5], [6]] \n",
    "input_list = [2,3,4]\n",
    "\n",
    "list_4 = [ [i+num] for i in range (2,5) for num in range (0,3)]\n",
    "\n",
    "print(list_4)"
   ]
  },
  {
   "cell_type": "code",
   "execution_count": 9,
   "metadata": {},
   "outputs": [
    {
     "name": "stdout",
     "output_type": "stream",
     "text": [
      "[[2, 3, 4, 5], [3, 4, 5, 6], [4, 5, 6, 7], [5, 6, 7, 8]]\n"
     ]
    }
   ],
   "source": [
    "#E- generate [[2, 3, 4, 5], [3, 4, 5, 6], [4, 5, 6, 7], [5, 6, 7, 8]] \n",
    "\n",
    "list_5 = [[i+num for i in range (2,6)] for num in range (0,4)]\n",
    "\n",
    "print (list_5)"
   ]
  },
  {
   "cell_type": "code",
   "execution_count": 10,
   "metadata": {},
   "outputs": [
    {
     "name": "stdout",
     "output_type": "stream",
     "text": [
      "[(1, 1), (2, 1), (3, 1), (1, 2), (2, 2), (3, 2), (1, 3), (2, 3), (3, 3)]\n"
     ]
    }
   ],
   "source": [
    "#F- Generate [(1, 1), (2, 1), (3, 1), (1, 2), (2, 2), (3, 2), (1, 3), (2, 3), (3, 3)] \n",
    "\n",
    "list_5 = [(y,x) for x in range (1,4) for y in range (1,4)]\n",
    "\n",
    "print (list_5)"
   ]
  },
  {
   "cell_type": "code",
   "execution_count": 11,
   "metadata": {},
   "outputs": [],
   "source": [
    "#3-Implement a function longestWord() that takes a list of words and returns the longest one.\n",
    "\n",
    "def longest_word (take_input):\n",
    "    my_len=0\n",
    "    for i in take_input:\n",
    "        print(i)\n",
    "        word_len= len(i)\n",
    "        if word_len>my_len:\n",
    "            my_len=word_len\n",
    "            mylongest_word=i\n",
    "    return mylongest_word\n",
    "        \n",
    "    \n"
   ]
  },
  {
   "cell_type": "code",
   "execution_count": 12,
   "metadata": {},
   "outputs": [
    {
     "name": "stdout",
     "output_type": "stream",
     "text": [
      "my\n",
      "name\n",
      "is\n",
      "ashish\n",
      "garg\n"
     ]
    },
    {
     "data": {
      "text/plain": [
       "'ashish'"
      ]
     },
     "execution_count": 12,
     "metadata": {},
     "output_type": "execute_result"
    }
   ],
   "source": [
    "my_list= [\"my\", \"name\", \"is\", \"ashish\", \"garg\"]\n",
    "longest_word(my_list)\n"
   ]
  },
  {
   "cell_type": "code",
   "execution_count": null,
   "metadata": {},
   "outputs": [],
   "source": []
  },
  {
   "cell_type": "markdown",
   "metadata": {},
   "source": [
    "# Task 2"
   ]
  },
  {
   "cell_type": "code",
   "execution_count": 24,
   "metadata": {},
   "outputs": [
    {
     "name": "stdout",
     "output_type": "stream",
     "text": [
      "Enter the value of a = 4\n",
      "Enter the value of b = 5\n",
      "Enter the value of c = 6\n",
      "area : 9.921567416492215\n"
     ]
    }
   ],
   "source": [
    "''' Write a Python Program(with class concepts) to find the area of the triangle using the below formula.area = (s*(s-a)*(s-b)*(s-c)) ** 0.5 \n",
    " Function to take the length of the sides of triangle from user should be defined in the parent class and function to calculate the area should be defined in subclass. \n",
    "'''\n",
    "\n",
    "class Triangle:\n",
    " \n",
    "    def __init__(self,a,b,c):\n",
    "        self.a = float(a)\n",
    "        self.b = float(b)\n",
    "        self.c = float(c)\n",
    " \n",
    "    def area(self):\n",
    "        s=(self.a + self.b + self.c)/2\n",
    "        return((s*(s-self.a)*(s-self.b)*(s-self.c))**0.5)\n",
    " \n",
    "a=input(\"Enter the value of a = \")\n",
    "b=input(\"Enter the value of b = \")\n",
    "c=input(\"Enter the value of c = \")\n",
    "t = Triangle(a, b, c)\n",
    "print(\"area : {}\".format(t.area()))\n"
   ]
  },
  {
   "cell_type": "code",
   "execution_count": null,
   "metadata": {},
   "outputs": [],
   "source": []
  },
  {
   "cell_type": "code",
   "execution_count": 14,
   "metadata": {},
   "outputs": [],
   "source": [
    "#1.2 Write a function filter_long_words() that takes a list of words and an integer n and returns the list of words that are longer than n.\n",
    "\n",
    "def filter_long_word(tk_input, n):\n",
    "    my_long_word=[]\n",
    "    for i in tk_input:\n",
    "        long_word_len=len(i)\n",
    "        if long_word_len > n:\n",
    "            my_long_word.append(i)\n",
    "    return my_long_word"
   ]
  },
  {
   "cell_type": "code",
   "execution_count": 15,
   "metadata": {},
   "outputs": [
    {
     "data": {
      "text/plain": [
       "['learning', 'language']"
      ]
     },
     "execution_count": 15,
     "metadata": {},
     "output_type": "execute_result"
    }
   ],
   "source": [
    "user_inpt= [\"My\", \"name\", \"is\", \"ashish\", \"I\", \"am\", \"learning\", \"python\", \"language\"]\n",
    "filter_long_word(user_inpt, 6)"
   ]
  },
  {
   "cell_type": "code",
   "execution_count": 16,
   "metadata": {},
   "outputs": [],
   "source": [
    "'''2.1 Write a Python program using function concept that maps  list of words into a list of integers representing the lengths of the corresponding words​. \n",
    " Hint: ​If a list [ ab,cde,erty] is passed on to the python function output should come as [2,3,4] \n",
    " Here 2,3 and 4 are the lengths of the words in the list. '''\n",
    "\n",
    "\n",
    "def map_len(my_listword):\n",
    "    output2=[]\n",
    "    for i in my_listword:\n",
    "        output2.append(len(i))\n",
    "        \n",
    "    return output2\n",
    "        \n",
    "\n"
   ]
  },
  {
   "cell_type": "code",
   "execution_count": 17,
   "metadata": {},
   "outputs": [
    {
     "data": {
      "text/plain": [
       "[2, 3, 4]"
      ]
     },
     "execution_count": 17,
     "metadata": {},
     "output_type": "execute_result"
    }
   ],
   "source": [
    "x= [ \"ab\",\"cde\",\"erty\"]\n",
    "map_len(x)"
   ]
  },
  {
   "cell_type": "code",
   "execution_count": 18,
   "metadata": {},
   "outputs": [],
   "source": [
    "#2.2 Write a Python function which takes a character (i.e. a string of length 1) and returns True if it is a vowel, False otherwise. \n",
    "\n",
    "def chk_vowel(v):\n",
    "    lv = [\"a\", \"i\", \"e\", \"o\", \"u\"]\n",
    "    uv = [\"A\", \"E\", \"I\" ,\"O\", \"U\"]\n",
    "    if v in lv or v in uv:\n",
    "        return True\n",
    "    else:\n",
    "        return False\n"
   ]
  },
  {
   "cell_type": "code",
   "execution_count": 23,
   "metadata": {},
   "outputs": [
    {
     "name": "stdout",
     "output_type": "stream",
     "text": [
      "ent a char_: A\n"
     ]
    },
    {
     "data": {
      "text/plain": [
       "True"
      ]
     },
     "execution_count": 23,
     "metadata": {},
     "output_type": "execute_result"
    }
   ],
   "source": [
    "v=input(\"ent a char_: \")\n",
    "chk_vowel(v)"
   ]
  },
  {
   "cell_type": "code",
   "execution_count": null,
   "metadata": {},
   "outputs": [],
   "source": []
  }
 ],
 "metadata": {
  "kernelspec": {
   "display_name": "Python 3",
   "language": "python",
   "name": "python3"
  },
  "language_info": {
   "codemirror_mode": {
    "name": "ipython",
    "version": 3
   },
   "file_extension": ".py",
   "mimetype": "text/x-python",
   "name": "python",
   "nbconvert_exporter": "python",
   "pygments_lexer": "ipython3",
   "version": "3.7.6"
  }
 },
 "nbformat": 4,
 "nbformat_minor": 4
}
