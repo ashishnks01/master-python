{
 "cells": [
  {
   "cell_type": "markdown",
   "metadata": {},
   "source": [
    "# Task 1- 1- Install Jupyter notebook and run the first program and share the screenshot of the output."
   ]
  },
  {
   "cell_type": "code",
   "execution_count": 211,
   "metadata": {},
   "outputs": [
    {
     "name": "stdout",
     "output_type": "stream",
     "text": [
      "Enter your name Ashish\n",
      "Hello!Ashish\n",
      "Guess a no. and type ok !!!!\n",
      "ok\n",
      "Multiply your no by 2 and type ok\n",
      "ok\n",
      "add 30 to your no, devide by 2 and click ok\n",
      "ok\n",
      "Deduct your original no. from total\n",
      "Ready to see magic... Type yes!! yes\n",
      " You have left with 15!! Go Enjoy and buy muffins..:)!!\n"
     ]
    }
   ],
   "source": [
    "# My first program- A no. guessing kind of game-\n",
    "\n",
    "a= input(\"Enter your name \")\n",
    "\n",
    "print (\"Hello!\" + a)\n",
    "\n",
    "x = \"Guess a no. and type ok !!!!\"\n",
    "print(x)\n",
    "b= input ()\n",
    "if b == (\"ok\"):\n",
    "    print (\"Multiply your no by 2 and type ok\")\n",
    "c = input ()    \n",
    "if c == (\"ok\"):\n",
    "    print (\"add 30 to your no, devide by 2 and click ok\")\n",
    "d = input ()\n",
    "if d == (\"ok\"):\n",
    "    print (\"Deduct your original no. from total\")\n",
    "e= input (\"Ready to see magic... Type yes!! \")\n",
    "if e == (\"yes\"):\n",
    "    print (\" You have left with 15!! Go Enjoy and buy muffins..:)!!\")"
   ]
  },
  {
   "cell_type": "code",
   "execution_count": null,
   "metadata": {},
   "outputs": [],
   "source": []
  },
  {
   "cell_type": "code",
   "execution_count": 206,
   "metadata": {},
   "outputs": [
    {
     "name": "stdout",
     "output_type": "stream",
     "text": [
      "[2002, 2009, 2016, 2023, 2037, 2044, 2051, 2058, 2072, 2079, 2086, 2093, 2107, 2114, 2121, 2128, 2142, 2149, 2156, 2163, 2177, 2184, 2191, 2198, 2212, 2219, 2226, 2233, 2247, 2254, 2261, 2268, 2282, 2289, 2296, 2303, 2317, 2324, 2331, 2338, 2352, 2359, 2366, 2373, 2387, 2394, 2401, 2408, 2422, 2429, 2436, 2443, 2457, 2464, 2471, 2478, 2492, 2499, 2506, 2513, 2527, 2534, 2541, 2548, 2562, 2569, 2576, 2583, 2597, 2604, 2611, 2618, 2632, 2639, 2646, 2653, 2667, 2674, 2681, 2688, 2702, 2709, 2716, 2723, 2737, 2744, 2751, 2758, 2772, 2779, 2786, 2793, 2807, 2814, 2821, 2828, 2842, 2849, 2856, 2863, 2877, 2884, 2891, 2898, 2912, 2919, 2926, 2933, 2947, 2954, 2961, 2968, 2982, 2989, 2996]\n"
     ]
    }
   ],
   "source": [
    "#2- Write a program for no. divisble by 7 and not multiple of 5 in the range 2000 and 3000 inclusive-\n",
    "\n",
    "my_list=[]\n",
    "for i in range (2000, 3001):\n",
    "    if (i%7==0 and i%5!=0):\n",
    "        my_list.append(i)\n",
    "print(my_list)"
   ]
  },
  {
   "cell_type": "code",
   "execution_count": null,
   "metadata": {},
   "outputs": [],
   "source": []
  },
  {
   "cell_type": "code",
   "execution_count": 207,
   "metadata": {
    "scrolled": true
   },
   "outputs": [
    {
     "name": "stdout",
     "output_type": "stream",
     "text": [
      "Enter you first Name...Ashish\n",
      "Enter your last name...Garg\n",
      "graG hsihsA\n"
     ]
    }
   ],
   "source": [
    "#3- Write a program to accept the user's first and last name and printing in the the reverse order with a space-\n",
    "\n",
    "first_name= input (\"Enter you first Name...\")\n",
    "last_name= input (\"Enter your last name...\")\n",
    "print ((first_name+\" \"+last_name) [::-1])\n"
   ]
  },
  {
   "cell_type": "code",
   "execution_count": null,
   "metadata": {},
   "outputs": [],
   "source": []
  },
  {
   "cell_type": "code",
   "execution_count": 208,
   "metadata": {},
   "outputs": [
    {
     "name": "stdout",
     "output_type": "stream",
     "text": [
      "volume of a sphere is: 904.7786842338603 cm^3\n"
     ]
    }
   ],
   "source": [
    "#4-write a program to find the volume of a sphere with diameter 12 cm formula V=4/3 * π * r**3 ..Note- radius used is diameter/2\n",
    "\n",
    "pi= 3.141592653589793238\n",
    "d= 12\n",
    "r = (d/2)\n",
    "v = 4/3*pi*r**3\n",
    "print (\"volume of a sphere is:\",v ,\"cm^3\")"
   ]
  },
  {
   "cell_type": "code",
   "execution_count": null,
   "metadata": {},
   "outputs": [],
   "source": []
  },
  {
   "cell_type": "markdown",
   "metadata": {},
   "source": [
    "# Task 2-"
   ]
  },
  {
   "cell_type": "code",
   "execution_count": 209,
   "metadata": {
    "scrolled": true
   },
   "outputs": [
    {
     "name": "stdout",
     "output_type": "stream",
     "text": [
      "14,565,98,56,5699,586,888888,12,5,6,8,636,5\n",
      "[14, 565, 98, 56, 5699, 586, 888888, 12, 5, 6, 8, 636, 5]\n"
     ]
    }
   ],
   "source": [
    "#1- Write a program accepts a sequence of comma-separated numbers from console and generate a list.\n",
    "\n",
    "a= input()\n",
    "b= a.split(\",\")\n",
    "for i in range (len(b)):\n",
    "    b[i]=(int(b[i]))\n",
    "print (b) \n"
   ]
  },
  {
   "cell_type": "code",
   "execution_count": null,
   "metadata": {},
   "outputs": [],
   "source": []
  },
  {
   "cell_type": "code",
   "execution_count": 210,
   "metadata": {},
   "outputs": [
    {
     "name": "stdout",
     "output_type": "stream",
     "text": [
      "* \n",
      "* * \n",
      "* * * \n",
      "* * * * \n",
      "* * * * * \n",
      "* * * * \n",
      "* * * \n",
      "* * \n",
      "* \n"
     ]
    }
   ],
   "source": [
    "#2 Gerate patter as shown in output-\n",
    "\n",
    "for i in range (1,6):\n",
    "    for j in range (i):\n",
    "        print(\"*\", end=\" \")\n",
    "    print()\n",
    "for i in range (4,0,-1):\n",
    "    for j in range (i):\n",
    "        print (\"*\", end=\" \")\n",
    "    print()"
   ]
  },
  {
   "cell_type": "code",
   "execution_count": null,
   "metadata": {},
   "outputs": [],
   "source": []
  },
  {
   "cell_type": "code",
   "execution_count": 92,
   "metadata": {},
   "outputs": [
    {
     "name": "stdout",
     "output_type": "stream",
     "text": [
      "Type your input: AcadGild\n",
      "dliGdacA\n"
     ]
    }
   ],
   "source": [
    "#3- write a program to reverse a word after accepting the input from the user.\n",
    "\n",
    "a = input(\"Type your input: \")\n",
    "print(a[::-1])"
   ]
  },
  {
   "cell_type": "code",
   "execution_count": null,
   "metadata": {},
   "outputs": [],
   "source": []
  },
  {
   "cell_type": "code",
   "execution_count": 170,
   "metadata": {},
   "outputs": [
    {
     "name": "stdout",
     "output_type": "stream",
     "text": [
      "WE, THE PEOPLE OF INDIA,\n",
      "\thaving solemnly resolved to constitute India into a SOVEREIGN,! \n",
      "\t\tSOCIALIST, SECULAR, DEMOCRATIC REPUBLIC\n",
      "\t\tand to secure to all its citizens\n"
     ]
    }
   ],
   "source": [
    "#4- write a program printing statement as shown in output-  Used new line and tab command-\n",
    "\n",
    "print ('''WE, THE PEOPLE OF INDIA,\\n\\thaving solemnly resolved to constitute India into a SOVEREIGN,! \\n\\t\\tSOCIALIST, SECULAR, DEMOCRATIC REPUBLIC\\n\\t\\tand to secure to all its citizens''')"
   ]
  },
  {
   "cell_type": "code",
   "execution_count": null,
   "metadata": {},
   "outputs": [],
   "source": []
  }
 ],
 "metadata": {
  "kernelspec": {
   "display_name": "Python 3",
   "language": "python",
   "name": "python3"
  },
  "language_info": {
   "codemirror_mode": {
    "name": "ipython",
    "version": 3
   },
   "file_extension": ".py",
   "mimetype": "text/x-python",
   "name": "python",
   "nbconvert_exporter": "python",
   "pygments_lexer": "ipython3",
   "version": "3.7.6"
  }
 },
 "nbformat": 4,
 "nbformat_minor": 4
}
